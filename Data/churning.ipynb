{
 "cells": [
  {
   "cell_type": "code",
   "execution_count": 1,
   "id": "e1b3cf79",
   "metadata": {},
   "outputs": [
    {
     "name": "stdout",
     "output_type": "stream",
     "text": [
      "Train shape: (165034, 14)\n",
      "Test shape: (110023, 13)\n",
      "Submission shape: (110023, 2)\n",
      "\n",
      "Train columns: ['id', 'CustomerId', 'Surname', 'CreditScore', 'Geography', 'Gender', 'Age', 'Tenure', 'Balance', 'NumOfProducts', 'HasCrCard', 'IsActiveMember', 'EstimatedSalary', 'Exited']\n",
      "\n",
      "Missing values per column:\n",
      " id                 0\n",
      "CustomerId         0\n",
      "Surname            0\n",
      "CreditScore        0\n",
      "Geography          0\n",
      "Gender             0\n",
      "Age                0\n",
      "Tenure             0\n",
      "Balance            0\n",
      "NumOfProducts      0\n",
      "HasCrCard          0\n",
      "IsActiveMember     0\n",
      "EstimatedSalary    0\n",
      "Exited             0\n",
      "dtype: int64\n",
      "\n",
      "Target distribution (first guess, if column exists):\n",
      "Exited\n",
      "0    130113\n",
      "1     34921\n",
      "Name: count, dtype: int64\n"
     ]
    },
    {
     "data": {
      "text/html": [
       "<div>\n",
       "<style scoped>\n",
       "    .dataframe tbody tr th:only-of-type {\n",
       "        vertical-align: middle;\n",
       "    }\n",
       "\n",
       "    .dataframe tbody tr th {\n",
       "        vertical-align: top;\n",
       "    }\n",
       "\n",
       "    .dataframe thead th {\n",
       "        text-align: right;\n",
       "    }\n",
       "</style>\n",
       "<table border=\"1\" class=\"dataframe\">\n",
       "  <thead>\n",
       "    <tr style=\"text-align: right;\">\n",
       "      <th></th>\n",
       "      <th>id</th>\n",
       "      <th>CustomerId</th>\n",
       "      <th>Surname</th>\n",
       "      <th>CreditScore</th>\n",
       "      <th>Geography</th>\n",
       "      <th>Gender</th>\n",
       "      <th>Age</th>\n",
       "      <th>Tenure</th>\n",
       "      <th>Balance</th>\n",
       "      <th>NumOfProducts</th>\n",
       "      <th>HasCrCard</th>\n",
       "      <th>IsActiveMember</th>\n",
       "      <th>EstimatedSalary</th>\n",
       "      <th>Exited</th>\n",
       "    </tr>\n",
       "  </thead>\n",
       "  <tbody>\n",
       "    <tr>\n",
       "      <th>0</th>\n",
       "      <td>0</td>\n",
       "      <td>15674932</td>\n",
       "      <td>Okwudilichukwu</td>\n",
       "      <td>668</td>\n",
       "      <td>France</td>\n",
       "      <td>Male</td>\n",
       "      <td>33.0</td>\n",
       "      <td>3</td>\n",
       "      <td>0.00</td>\n",
       "      <td>2</td>\n",
       "      <td>1.0</td>\n",
       "      <td>0.0</td>\n",
       "      <td>181449.97</td>\n",
       "      <td>0</td>\n",
       "    </tr>\n",
       "    <tr>\n",
       "      <th>1</th>\n",
       "      <td>1</td>\n",
       "      <td>15749177</td>\n",
       "      <td>Okwudiliolisa</td>\n",
       "      <td>627</td>\n",
       "      <td>France</td>\n",
       "      <td>Male</td>\n",
       "      <td>33.0</td>\n",
       "      <td>1</td>\n",
       "      <td>0.00</td>\n",
       "      <td>2</td>\n",
       "      <td>1.0</td>\n",
       "      <td>1.0</td>\n",
       "      <td>49503.50</td>\n",
       "      <td>0</td>\n",
       "    </tr>\n",
       "    <tr>\n",
       "      <th>2</th>\n",
       "      <td>2</td>\n",
       "      <td>15694510</td>\n",
       "      <td>Hsueh</td>\n",
       "      <td>678</td>\n",
       "      <td>France</td>\n",
       "      <td>Male</td>\n",
       "      <td>40.0</td>\n",
       "      <td>10</td>\n",
       "      <td>0.00</td>\n",
       "      <td>2</td>\n",
       "      <td>1.0</td>\n",
       "      <td>0.0</td>\n",
       "      <td>184866.69</td>\n",
       "      <td>0</td>\n",
       "    </tr>\n",
       "    <tr>\n",
       "      <th>3</th>\n",
       "      <td>3</td>\n",
       "      <td>15741417</td>\n",
       "      <td>Kao</td>\n",
       "      <td>581</td>\n",
       "      <td>France</td>\n",
       "      <td>Male</td>\n",
       "      <td>34.0</td>\n",
       "      <td>2</td>\n",
       "      <td>148882.54</td>\n",
       "      <td>1</td>\n",
       "      <td>1.0</td>\n",
       "      <td>1.0</td>\n",
       "      <td>84560.88</td>\n",
       "      <td>0</td>\n",
       "    </tr>\n",
       "    <tr>\n",
       "      <th>4</th>\n",
       "      <td>4</td>\n",
       "      <td>15766172</td>\n",
       "      <td>Chiemenam</td>\n",
       "      <td>716</td>\n",
       "      <td>Spain</td>\n",
       "      <td>Male</td>\n",
       "      <td>33.0</td>\n",
       "      <td>5</td>\n",
       "      <td>0.00</td>\n",
       "      <td>2</td>\n",
       "      <td>1.0</td>\n",
       "      <td>1.0</td>\n",
       "      <td>15068.83</td>\n",
       "      <td>0</td>\n",
       "    </tr>\n",
       "  </tbody>\n",
       "</table>\n",
       "</div>"
      ],
      "text/plain": [
       "   id  CustomerId         Surname  CreditScore Geography Gender   Age  Tenure  \\\n",
       "0   0    15674932  Okwudilichukwu          668    France   Male  33.0       3   \n",
       "1   1    15749177   Okwudiliolisa          627    France   Male  33.0       1   \n",
       "2   2    15694510           Hsueh          678    France   Male  40.0      10   \n",
       "3   3    15741417             Kao          581    France   Male  34.0       2   \n",
       "4   4    15766172       Chiemenam          716     Spain   Male  33.0       5   \n",
       "\n",
       "     Balance  NumOfProducts  HasCrCard  IsActiveMember  EstimatedSalary  \\\n",
       "0       0.00              2        1.0             0.0        181449.97   \n",
       "1       0.00              2        1.0             1.0         49503.50   \n",
       "2       0.00              2        1.0             0.0        184866.69   \n",
       "3  148882.54              1        1.0             1.0         84560.88   \n",
       "4       0.00              2        1.0             1.0         15068.83   \n",
       "\n",
       "   Exited  \n",
       "0       0  \n",
       "1       0  \n",
       "2       0  \n",
       "3       0  \n",
       "4       0  "
      ]
     },
     "execution_count": 1,
     "metadata": {},
     "output_type": "execute_result"
    }
   ],
   "source": [
    "import pandas as pd\n",
    "\n",
    "# Load datasets\n",
    "train = pd.read_csv(\"train.csv\")\n",
    "test = pd.read_csv(\"test.csv\")\n",
    "sub = pd.read_csv(\"sample_submission.csv\")\n",
    "\n",
    "# Check shapes\n",
    "print(\"Train shape:\", train.shape)\n",
    "print(\"Test shape:\", test.shape)\n",
    "print(\"Submission shape:\", sub.shape)\n",
    "\n",
    "# Look at columns and first few rows of train\n",
    "print(\"\\nTrain columns:\", train.columns.tolist())\n",
    "print(\"\\nMissing values per column:\\n\", train.isnull().sum())\n",
    "print(\"\\nTarget distribution (first guess, if column exists):\")\n",
    "if \"Exited\" in train.columns:\n",
    "    print(train[\"Exited\"].value_counts())\n",
    "elif \"Churn\" in train.columns:\n",
    "    print(train[\"Churn\"].value_counts())\n",
    "\n",
    "train.head()\n"
   ]
  },
  {
   "cell_type": "code",
   "execution_count": 2,
   "id": "6efab2bb",
   "metadata": {},
   "outputs": [
    {
     "name": "stdout",
     "output_type": "stream",
     "text": [
      "Features shape: (165034, 13)\n",
      "Target distribution:\n",
      " Exited\n",
      "0    0.788401\n",
      "1    0.211599\n",
      "Name: proportion, dtype: float64\n"
     ]
    }
   ],
   "source": [
    "\n",
    "target = \"Exited\"  # change to \"Churn\" if that's the column name\n",
    "\n",
    "# Features and labels\n",
    "X = train.drop(columns=[target])\n",
    "y = train[target]\n",
    "\n",
    "print(\"Features shape:\", X.shape)\n",
    "print(\"Target distribution:\\n\", y.value_counts(normalize=True))\n"
   ]
  },
  {
   "cell_type": "code",
   "execution_count": 3,
   "id": "19e9825e",
   "metadata": {},
   "outputs": [
    {
     "name": "stdout",
     "output_type": "stream",
     "text": [
      "Train set: (132027, 13) (132027,)\n",
      "Validation set: (33007, 13) (33007,)\n"
     ]
    }
   ],
   "source": [
    "from sklearn.model_selection import train_test_split\n",
    "\n",
    "X_train, X_val, y_train, y_val = train_test_split(\n",
    "    X, y, test_size=0.2, stratify=y, random_state=42\n",
    ")\n",
    "\n",
    "print(\"Train set:\", X_train.shape, y_train.shape)\n",
    "print(\"Validation set:\", X_val.shape, y_val.shape)\n"
   ]
  },
  {
   "cell_type": "code",
   "execution_count": 4,
   "id": "c6db3d30",
   "metadata": {},
   "outputs": [
    {
     "name": "stdout",
     "output_type": "stream",
     "text": [
      "Categorical columns: ['Surname', 'Geography', 'Gender']\n",
      "Numerical columns: ['id', 'CustomerId', 'CreditScore', 'Age', 'Tenure', 'Balance', 'NumOfProducts', 'HasCrCard', 'IsActiveMember', 'EstimatedSalary']\n"
     ]
    }
   ],
   "source": [
    "from sklearn.preprocessing import OneHotEncoder, StandardScaler\n",
    "from sklearn.compose import ColumnTransformer\n",
    "from sklearn.pipeline import Pipeline\n",
    "\n",
    "# Identify categorical and numerical columns\n",
    "categorical_cols = X_train.select_dtypes(include=[\"object\"]).columns.tolist()\n",
    "numerical_cols = X_train.select_dtypes(include=[\"int64\",\"float64\"]).columns.tolist()\n",
    "\n",
    "print(\"Categorical columns:\", categorical_cols)\n",
    "print(\"Numerical columns:\", numerical_cols)\n",
    "\n",
    "# Preprocessor: OneHotEncode categoricals + Scale numericals\n",
    "preprocessor = ColumnTransformer(\n",
    "    transformers=[\n",
    "        (\"cat\", OneHotEncoder(handle_unknown=\"ignore\"), categorical_cols),\n",
    "        (\"num\", StandardScaler(), numerical_cols)\n",
    "    ]\n",
    ")\n"
   ]
  },
  {
   "cell_type": "code",
   "execution_count": 5,
   "id": "63f003ce",
   "metadata": {},
   "outputs": [],
   "source": [
    "# Removing theeeee identifier-like features\n",
    "categorical_cols = [\"Geography\", \"Gender\"]\n",
    "numerical_cols = [\n",
    "    \"CreditScore\", \"Age\", \"Tenure\", \"Balance\", \n",
    "    \"NumOfProducts\", \"HasCrCard\", \"IsActiveMember\", \"EstimatedSalary\"\n",
    "]\n",
    "\n",
    "from sklearn.preprocessing import OneHotEncoder, StandardScaler\n",
    "from sklearn.compose import ColumnTransformer\n",
    "\n",
    "preprocessor = ColumnTransformer(\n",
    "    transformers=[\n",
    "        (\"cat\", OneHotEncoder(handle_unknown=\"ignore\"), categorical_cols),\n",
    "        (\"num\", StandardScaler(), numerical_cols)\n",
    "    ]\n",
    ")\n"
   ]
  },
  {
   "cell_type": "code",
   "execution_count": 6,
   "id": "a0aa9ae0",
   "metadata": {},
   "outputs": [
    {
     "name": "stdout",
     "output_type": "stream",
     "text": [
      "Validation Accuracy: 0.8574241827491138\n",
      "\n",
      "Classification Report:\n",
      "               precision    recall  f1-score   support\n",
      "\n",
      "           0       0.88      0.94      0.91     26023\n",
      "           1       0.72      0.53      0.61      6984\n",
      "\n",
      "    accuracy                           0.86     33007\n",
      "   macro avg       0.80      0.74      0.76     33007\n",
      "weighted avg       0.85      0.86      0.85     33007\n",
      "\n"
     ]
    }
   ],
   "source": [
    "from sklearn.pipeline import Pipeline\n",
    "from sklearn.ensemble import RandomForestClassifier\n",
    "from sklearn.metrics import accuracy_score, classification_report\n",
    "\n",
    "# Build pipeline: preprocessing + model\n",
    "clf = Pipeline(steps=[\n",
    "    (\"preprocessor\", preprocessor),\n",
    "    (\"model\", RandomForestClassifier(\n",
    "        n_estimators=100, \n",
    "        random_state=42,\n",
    "        n_jobs=-1\n",
    "    ))\n",
    "])\n",
    "\n",
    "# Train\n",
    "clf.fit(X_train, y_train)\n",
    "\n",
    "# Predict on validation set\n",
    "y_pred = clf.predict(X_val)\n",
    "\n",
    "# Evaluate\n",
    "print(\"Validation Accuracy:\", accuracy_score(y_val, y_pred))\n",
    "print(\"\\nClassification Report:\\n\", classification_report(y_val, y_pred))\n"
   ]
  },
  {
   "cell_type": "code",
   "execution_count": 7,
   "id": "3b9e6b34",
   "metadata": {},
   "outputs": [],
   "source": [
    "from sklearn.ensemble import RandomForestClassifier\n",
    "\n",
    "clf = Pipeline(steps=[\n",
    "    (\"preprocessor\", preprocessor),\n",
    "    (\"model\", RandomForestClassifier(\n",
    "        n_estimators=100, \n",
    "        class_weight=\"balanced\",  # <---\n",
    "        random_state=42,\n",
    "        n_jobs=-1\n",
    "    ))\n",
    "])\n"
   ]
  },
  {
   "cell_type": "code",
   "execution_count": 8,
   "id": "f1869f45",
   "metadata": {},
   "outputs": [
    {
     "name": "stdout",
     "output_type": "stream",
     "text": [
      "Validation Accuracy: 0.8577574453903717\n",
      "\n",
      "Classification Report:\n",
      "               precision    recall  f1-score   support\n",
      "\n",
      "           0       0.88      0.95      0.91     26023\n",
      "           1       0.73      0.52      0.61      6984\n",
      "\n",
      "    accuracy                           0.86     33007\n",
      "   macro avg       0.81      0.73      0.76     33007\n",
      "weighted avg       0.85      0.86      0.85     33007\n",
      "\n"
     ]
    }
   ],
   "source": [
    "from sklearn.pipeline import Pipeline\n",
    "from sklearn.ensemble import RandomForestClassifier\n",
    "from sklearn.metrics import accuracy_score, classification_report\n",
    "\n",
    "# Model with class weights\n",
    "clf_balanced = Pipeline(steps=[\n",
    "    (\"preprocessor\", preprocessor),\n",
    "    (\"model\", RandomForestClassifier(\n",
    "        n_estimators=100,\n",
    "        class_weight=\"balanced\",   # <-- handle imbalance\n",
    "        random_state=42,\n",
    "        n_jobs=-1\n",
    "    ))\n",
    "])\n",
    "\n",
    "# Train\n",
    "clf_balanced.fit(X_train, y_train)\n",
    "\n",
    "# Predict\n",
    "y_pred_balanced = clf_balanced.predict(X_val)\n",
    "\n",
    "# Evaluate\n",
    "print(\"Validation Accuracy:\", accuracy_score(y_val, y_pred_balanced))\n",
    "print(\"\\nClassification Report:\\n\", classification_report(y_val, y_pred_balanced))\n"
   ]
  },
  {
   "cell_type": "code",
   "execution_count": 12,
   "id": "0af54a5b",
   "metadata": {},
   "outputs": [
    {
     "name": "stdout",
     "output_type": "stream",
     "text": [
      "Transformed X_train shape: (132027, 13)\n",
      "Transformed X_val shape: (33007, 13)\n"
     ]
    }
   ],
   "source": [
    "# Transform train features into numeric using your preprocessor\n",
    "X_train_num = preprocessor.fit_transform(X_train)\n",
    "X_val_num = preprocessor.transform(X_val)\n",
    "\n",
    "print(\"Transformed X_train shape:\", X_train_num.shape)\n",
    "print(\"Transformed X_val shape:\", X_val_num.shape)\n"
   ]
  },
  {
   "cell_type": "code",
   "execution_count": null,
   "id": "9d395464",
   "metadata": {},
   "outputs": [],
   "source": []
  },
  {
   "cell_type": "code",
   "execution_count": 13,
   "id": "1acff5a4",
   "metadata": {},
   "outputs": [
    {
     "name": "stdout",
     "output_type": "stream",
     "text": [
      "Before SMOTE: Exited\n",
      "0    104090\n",
      "1     27937\n",
      "Name: count, dtype: int64\n",
      "After SMOTE: Exited\n",
      "0    104090\n",
      "1    104090\n",
      "Name: count, dtype: int64\n"
     ]
    }
   ],
   "source": [
    "from imblearn.over_sampling import SMOTE\n",
    "\n",
    "smote = SMOTE(random_state=42)\n",
    "X_train_res, y_train_res = smote.fit_resample(X_train_num, y_train)\n",
    "\n",
    "print(\"Before SMOTE:\", y_train.value_counts())\n",
    "print(\"After SMOTE:\", y_train_res.value_counts())\n"
   ]
  },
  {
   "cell_type": "markdown",
   "id": "d1cc0eac",
   "metadata": {},
   "source": [
    "Training the model on resampled data!!"
   ]
  },
  {
   "cell_type": "code",
   "execution_count": 14,
   "id": "1702d61d",
   "metadata": {},
   "outputs": [
    {
     "name": "stdout",
     "output_type": "stream",
     "text": [
      "Validation Accuracy: 0.844669312570061\n",
      "\n",
      "Classification Report:\n",
      "               precision    recall  f1-score   support\n",
      "\n",
      "           0       0.90      0.90      0.90     26023\n",
      "           1       0.63      0.63      0.63      6984\n",
      "\n",
      "    accuracy                           0.84     33007\n",
      "   macro avg       0.77      0.77      0.77     33007\n",
      "weighted avg       0.84      0.84      0.84     33007\n",
      "\n"
     ]
    }
   ],
   "source": [
    "from sklearn.ensemble import RandomForestClassifier\n",
    "from sklearn.metrics import accuracy_score, classification_report\n",
    "\n",
    "# Train Random Forest on resampled data\n",
    "rf_smote = RandomForestClassifier(\n",
    "    n_estimators=200, \n",
    "    random_state=42, \n",
    "    n_jobs=-1\n",
    ")\n",
    "rf_smote.fit(X_train_res, y_train_res)\n",
    "\n",
    "# Predict on validation set (not resampled!)\n",
    "y_pred_smote = rf_smote.predict(X_val_num)\n",
    "\n",
    "# Evaluate\n",
    "print(\"Validation Accuracy:\", accuracy_score(y_val, y_pred_smote))\n",
    "print(\"\\nClassification Report:\\n\", classification_report(y_val, y_pred_smote))\n"
   ]
  },
  {
   "cell_type": "markdown",
   "id": "f4d32c91",
   "metadata": {},
   "source": [
    "Trying an advanced tree-based model (XGBoost)"
   ]
  },
  {
   "cell_type": "code",
   "execution_count": 19,
   "id": "dfd200b5",
   "metadata": {},
   "outputs": [
    {
     "name": "stdout",
     "output_type": "stream",
     "text": [
      "Validation Accuracy: 0.8603932499166843\n",
      "\n",
      "Classification Report:\n",
      "               precision    recall  f1-score   support\n",
      "\n",
      "           0       0.90      0.92      0.91     26023\n",
      "           1       0.68      0.63      0.66      6984\n",
      "\n",
      "    accuracy                           0.86     33007\n",
      "   macro avg       0.79      0.78      0.79     33007\n",
      "weighted avg       0.86      0.86      0.86     33007\n",
      "\n"
     ]
    }
   ],
   "source": [
    "from xgboost import XGBClassifier\n",
    "\n",
    "# Train XGBoost on resampled data\n",
    "xgb = XGBClassifier(\n",
    "    n_estimators=500,\n",
    "    learning_rate=0.05,\n",
    "    max_depth=6,\n",
    "    subsample=0.8,\n",
    "    colsample_bytree=0.8,\n",
    "    random_state=42,\n",
    "    n_jobs=-1,\n",
    "    scale_pos_weight=1  # because we already balanced with SMOTE\n",
    ")\n",
    "\n",
    "xgb.fit(X_train_res, y_train_res)\n",
    "\n",
    "# Predict\n",
    "y_pred_xgb = xgb.predict(X_val_num)\n",
    "\n",
    "# Evaluate\n",
    "print(\"Validation Accuracy:\", accuracy_score(y_val, y_pred_xgb))\n",
    "print(\"\\nClassification Report:\\n\", classification_report(y_val, y_pred_xgb))\n"
   ]
  },
  {
   "cell_type": "code",
   "execution_count": 18,
   "id": "974b2899",
   "metadata": {},
   "outputs": [
    {
     "name": "stdout",
     "output_type": "stream",
     "text": [
      "Collecting xgboost\n",
      "  Using cached xgboost-3.0.5-py3-none-win_amd64.whl.metadata (2.1 kB)\n",
      "Collecting lightgbm\n",
      "  Downloading lightgbm-4.6.0-py3-none-win_amd64.whl.metadata (17 kB)\n",
      "Requirement already satisfied: numpy in c:\\users\\varisha\\appdata\\local\\programs\\python\\python313\\lib\\site-packages (from xgboost) (2.2.6)\n",
      "Requirement already satisfied: scipy in c:\\users\\varisha\\appdata\\local\\programs\\python\\python313\\lib\\site-packages (from xgboost) (1.16.1)\n",
      "Using cached xgboost-3.0.5-py3-none-win_amd64.whl (56.8 MB)\n",
      "Downloading lightgbm-4.6.0-py3-none-win_amd64.whl (1.5 MB)\n",
      "   ---------------------------------------- 0.0/1.5 MB ? eta -:--:--\n",
      "   ---------------------------------------- 0.0/1.5 MB ? eta -:--:--\n",
      "   ---------------------------------------- 0.0/1.5 MB ? eta -:--:--\n",
      "   ------- -------------------------------- 0.3/1.5 MB ? eta -:--:--\n",
      "   ------- -------------------------------- 0.3/1.5 MB ? eta -:--:--\n",
      "   ------- -------------------------------- 0.3/1.5 MB ? eta -:--:--\n",
      "   ------- -------------------------------- 0.3/1.5 MB ? eta -:--:--\n",
      "   ------- -------------------------------- 0.3/1.5 MB ? eta -:--:--\n",
      "   ------- -------------------------------- 0.3/1.5 MB ? eta -:--:--\n",
      "   -------------- ------------------------- 0.5/1.5 MB 231.2 kB/s eta 0:00:05\n",
      "   -------------- ------------------------- 0.5/1.5 MB 231.2 kB/s eta 0:00:05\n",
      "   -------------- ------------------------- 0.5/1.5 MB 231.2 kB/s eta 0:00:05\n",
      "   -------------- ------------------------- 0.5/1.5 MB 231.2 kB/s eta 0:00:05\n",
      "   -------------- ------------------------- 0.5/1.5 MB 231.2 kB/s eta 0:00:05\n",
      "   -------------- ------------------------- 0.5/1.5 MB 231.2 kB/s eta 0:00:05\n",
      "   -------------- ------------------------- 0.5/1.5 MB 231.2 kB/s eta 0:00:05\n",
      "   -------------- ------------------------- 0.5/1.5 MB 231.2 kB/s eta 0:00:05\n",
      "   -------------- ------------------------- 0.5/1.5 MB 231.2 kB/s eta 0:00:05\n",
      "   -------------- ------------------------- 0.5/1.5 MB 231.2 kB/s eta 0:00:05\n",
      "   -------------- ------------------------- 0.5/1.5 MB 231.2 kB/s eta 0:00:05\n",
      "   -------------- ------------------------- 0.5/1.5 MB 231.2 kB/s eta 0:00:05\n",
      "   -------------- ------------------------- 0.5/1.5 MB 231.2 kB/s eta 0:00:05\n",
      "   -------------- ------------------------- 0.5/1.5 MB 231.2 kB/s eta 0:00:05\n",
      "   -------------- ------------------------- 0.5/1.5 MB 231.2 kB/s eta 0:00:05\n",
      "   -------------- ------------------------- 0.5/1.5 MB 231.2 kB/s eta 0:00:05\n",
      "   --------------------- ------------------ 0.8/1.5 MB 113.0 kB/s eta 0:00:06\n",
      "   --------------------- ------------------ 0.8/1.5 MB 113.0 kB/s eta 0:00:06\n",
      "   --------------------- ------------------ 0.8/1.5 MB 113.0 kB/s eta 0:00:06\n",
      "   --------------------- ------------------ 0.8/1.5 MB 113.0 kB/s eta 0:00:06\n",
      "   --------------------- ------------------ 0.8/1.5 MB 113.0 kB/s eta 0:00:06\n",
      "   --------------------- ------------------ 0.8/1.5 MB 113.0 kB/s eta 0:00:06\n",
      "   --------------------- ------------------ 0.8/1.5 MB 113.0 kB/s eta 0:00:06\n",
      "   --------------------- ------------------ 0.8/1.5 MB 113.0 kB/s eta 0:00:06\n",
      "   --------------------- ------------------ 0.8/1.5 MB 113.0 kB/s eta 0:00:06\n",
      "   --------------------- ------------------ 0.8/1.5 MB 113.0 kB/s eta 0:00:06\n",
      "   --------------------- ------------------ 0.8/1.5 MB 113.0 kB/s eta 0:00:06\n",
      "   --------------------- ------------------ 0.8/1.5 MB 113.0 kB/s eta 0:00:06\n",
      "   ---------------------------- ----------- 1.0/1.5 MB 108.7 kB/s eta 0:00:04\n",
      "   ---------------------------- ----------- 1.0/1.5 MB 108.7 kB/s eta 0:00:04\n",
      "   ---------------------------- ----------- 1.0/1.5 MB 108.7 kB/s eta 0:00:04\n",
      "   ---------------------------- ----------- 1.0/1.5 MB 108.7 kB/s eta 0:00:04\n",
      "   ---------------------------- ----------- 1.0/1.5 MB 108.7 kB/s eta 0:00:04\n",
      "   ---------------------------- ----------- 1.0/1.5 MB 108.7 kB/s eta 0:00:04\n",
      "   ---------------------------- ----------- 1.0/1.5 MB 108.7 kB/s eta 0:00:04\n",
      "   ---------------------------- ----------- 1.0/1.5 MB 108.7 kB/s eta 0:00:04\n",
      "   ---------------------------- ----------- 1.0/1.5 MB 108.7 kB/s eta 0:00:04\n",
      "   ---------------------------- ----------- 1.0/1.5 MB 108.7 kB/s eta 0:00:04\n",
      "   ---------------------------- ----------- 1.0/1.5 MB 108.7 kB/s eta 0:00:04\n",
      "   ---------------------------- ----------- 1.0/1.5 MB 108.7 kB/s eta 0:00:04\n",
      "   ---------------------------- ----------- 1.0/1.5 MB 108.7 kB/s eta 0:00:04\n",
      "   ---------------------------- ----------- 1.0/1.5 MB 108.7 kB/s eta 0:00:04\n",
      "   ---------------------------- ----------- 1.0/1.5 MB 108.7 kB/s eta 0:00:04\n",
      "   ---------------------------- ----------- 1.0/1.5 MB 108.7 kB/s eta 0:00:04\n",
      "   ---------------------------- ----------- 1.0/1.5 MB 108.7 kB/s eta 0:00:04\n",
      "   ---------------------------- ----------- 1.0/1.5 MB 108.7 kB/s eta 0:00:04\n",
      "   ------------------------------------ --- 1.3/1.5 MB 93.9 kB/s eta 0:00:02\n",
      "   ------------------------------------ --- 1.3/1.5 MB 93.9 kB/s eta 0:00:02\n",
      "   ------------------------------------ --- 1.3/1.5 MB 93.9 kB/s eta 0:00:02\n",
      "   ------------------------------------ --- 1.3/1.5 MB 93.9 kB/s eta 0:00:02\n",
      "   ------------------------------------ --- 1.3/1.5 MB 93.9 kB/s eta 0:00:02\n",
      "   ------------------------------------ --- 1.3/1.5 MB 93.9 kB/s eta 0:00:02\n",
      "   ------------------------------------ --- 1.3/1.5 MB 93.9 kB/s eta 0:00:02\n",
      "   ------------------------------------ --- 1.3/1.5 MB 93.9 kB/s eta 0:00:02\n",
      "   ------------------------------------ --- 1.3/1.5 MB 93.9 kB/s eta 0:00:02\n",
      "   ------------------------------------ --- 1.3/1.5 MB 93.9 kB/s eta 0:00:02\n",
      "   ------------------------------------ --- 1.3/1.5 MB 93.9 kB/s eta 0:00:02\n",
      "   ------------------------------------ --- 1.3/1.5 MB 93.9 kB/s eta 0:00:02\n",
      "   ---------------------------------------- 1.5/1.5 MB 87.9 kB/s  0:00:14\n",
      "Installing collected packages: xgboost, lightgbm\n",
      "\n",
      "   ---------------------------------------- 0/2 [xgboost]\n",
      "   ---------------------------------------- 0/2 [xgboost]\n",
      "   ---------------------------------------- 0/2 [xgboost]\n",
      "   ---------------------------------------- 0/2 [xgboost]\n",
      "   ---------------------------------------- 0/2 [xgboost]\n",
      "   ---------------------------------------- 0/2 [xgboost]\n",
      "   ---------------------------------------- 0/2 [xgboost]\n",
      "   ---------------------------------------- 0/2 [xgboost]\n",
      "   ---------------------------------------- 0/2 [xgboost]\n",
      "   ---------------------------------------- 0/2 [xgboost]\n",
      "   ---------------------------------------- 0/2 [xgboost]\n",
      "   ---------------------------------------- 0/2 [xgboost]\n",
      "   ---------------------------------------- 0/2 [xgboost]\n",
      "   ---------------------------------------- 0/2 [xgboost]\n",
      "   ---------------------------------------- 0/2 [xgboost]\n",
      "   ---------------------------------------- 0/2 [xgboost]\n",
      "   ---------------------------------------- 0/2 [xgboost]\n",
      "   ---------------------------------------- 0/2 [xgboost]\n",
      "   ---------------------------------------- 0/2 [xgboost]\n",
      "   ---------------------------------------- 0/2 [xgboost]\n",
      "   ---------------------------------------- 0/2 [xgboost]\n",
      "   ---------------------------------------- 0/2 [xgboost]\n",
      "   ---------------------------------------- 0/2 [xgboost]\n",
      "   ---------------------------------------- 0/2 [xgboost]\n",
      "   ---------------------------------------- 0/2 [xgboost]\n",
      "   ---------------------------------------- 0/2 [xgboost]\n",
      "   ---------------------------------------- 0/2 [xgboost]\n",
      "   ---------------------------------------- 0/2 [xgboost]\n",
      "   ---------------------------------------- 0/2 [xgboost]\n",
      "   -------------------- ------------------- 1/2 [lightgbm]\n",
      "   -------------------- ------------------- 1/2 [lightgbm]\n",
      "   -------------------- ------------------- 1/2 [lightgbm]\n",
      "   -------------------- ------------------- 1/2 [lightgbm]\n",
      "   -------------------- ------------------- 1/2 [lightgbm]\n",
      "   -------------------- ------------------- 1/2 [lightgbm]\n",
      "   -------------------- ------------------- 1/2 [lightgbm]\n",
      "   ---------------------------------------- 2/2 [lightgbm]\n",
      "\n",
      "Successfully installed lightgbm-4.6.0 xgboost-3.0.5\n",
      "Note: you may need to restart the kernel to use updated packages.\n"
     ]
    }
   ],
   "source": [
    "%pip install xgboost lightgbm\n"
   ]
  },
  {
   "cell_type": "code",
   "execution_count": 23,
   "id": "90f1b342",
   "metadata": {},
   "outputs": [
    {
     "name": "stdout",
     "output_type": "stream",
     "text": [
      "[LightGBM] [Warning] Found whitespace in feature_names, replace with underlines\n",
      "[LightGBM] [Info] Number of positive: 104090, number of negative: 104090\n",
      "[LightGBM] [Info] Auto-choosing row-wise multi-threading, the overhead of testing was 0.591181 seconds.\n",
      "You can set `force_row_wise=true` to remove the overhead.\n",
      "And if memory is not enough, you can set `force_col_wise=true`.\n",
      "[LightGBM] [Info] Total Bins 4820\n",
      "[LightGBM] [Info] Number of data points in the train set: 208180, number of used features: 1392\n",
      "[LightGBM] [Info] [binary:BoostFromScore]: pavg=0.500000 -> initscore=0.000000\n",
      "Validation Accuracy: 0.8650892234980458\n",
      "\n",
      "Classification Report:\n",
      "               precision    recall  f1-score   support\n",
      "\n",
      "           0       0.90      0.93      0.92     26023\n",
      "           1       0.71      0.61      0.66      6984\n",
      "\n",
      "    accuracy                           0.87     33007\n",
      "   macro avg       0.80      0.77      0.79     33007\n",
      "weighted avg       0.86      0.87      0.86     33007\n",
      "\n"
     ]
    }
   ],
   "source": [
    "import pandas as pd\n",
    "from imblearn.over_sampling import SMOTE\n",
    "\n",
    "# Step 1: One-hot encode categorical columns BEFORE SMOTE\n",
    "X_train_enc = pd.get_dummies(X_train, drop_first=True)\n",
    "X_val_enc = pd.get_dummies(X_val, drop_first=True)\n",
    "\n",
    "# Align validation columns with training columns\n",
    "X_val_enc = X_val_enc.reindex(columns=X_train_enc.columns, fill_value=0)\n",
    "\n",
    "# Step 2: Apply SMOTE on the encoded training data\n",
    "smote = SMOTE(random_state=42)\n",
    "X_train_res, y_train_res = smote.fit_resample(X_train_enc, y_train)\n",
    "\n",
    "# Step 3: Train LightGBM\n",
    "from lightgbm import LGBMClassifier\n",
    "from sklearn.metrics import accuracy_score, classification_report\n",
    "\n",
    "lgb = LGBMClassifier(n_estimators=500, learning_rate=0.05, random_state=42)\n",
    "lgb.fit(X_train_res, y_train_res)\n",
    "\n",
    "# Step 4: Evaluate\n",
    "y_val_pred_lgb = lgb.predict(X_val_enc)\n",
    "\n",
    "print(\"Validation Accuracy:\", accuracy_score(y_val, y_val_pred_lgb))\n",
    "print(\"\\nClassification Report:\\n\", classification_report(y_val, y_val_pred_lgb))\n"
   ]
  },
  {
   "cell_type": "code",
   "execution_count": 26,
   "id": "78023f14",
   "metadata": {},
   "outputs": [
    {
     "name": "stdout",
     "output_type": "stream",
     "text": [
      "Train encoded shape: (208180, 2753)\n",
      "Val encoded shape: (33007, 2753)\n",
      "y_train_res shape: (208180,)\n"
     ]
    }
   ],
   "source": [
    "# One-hot encode categorical features\n",
    "X_train_enc = pd.get_dummies(X_train_res, drop_first=True)\n",
    "X_val_enc = pd.get_dummies(X_val, drop_first=True)\n",
    "\n",
    "# Align train and val so they have the same columns\n",
    "X_train_enc, X_val_enc = X_train_enc.align(X_val_enc, join=\"left\", axis=1, fill_value=0)\n",
    "\n",
    "print(\"Train encoded shape:\", X_train_enc.shape)\n",
    "print(\"Val encoded shape:\", X_val_enc.shape)\n",
    "print(\"y_train_res shape:\", y_train_res.shape)\n"
   ]
  },
  {
   "cell_type": "code",
   "execution_count": 27,
   "id": "27e30ca1",
   "metadata": {},
   "outputs": [
    {
     "name": "stdout",
     "output_type": "stream",
     "text": [
      "[LightGBM] [Warning] Found whitespace in feature_names, replace with underlines\n",
      "[LightGBM] [Info] Number of positive: 104090, number of negative: 104090\n",
      "[LightGBM] [Info] Auto-choosing row-wise multi-threading, the overhead of testing was 0.574566 seconds.\n",
      "You can set `force_row_wise=true` to remove the overhead.\n",
      "And if memory is not enough, you can set `force_col_wise=true`.\n",
      "[LightGBM] [Info] Total Bins 4820\n",
      "[LightGBM] [Info] Number of data points in the train set: 208180, number of used features: 1392\n",
      "[LightGBM] [Info] [binary:BoostFromScore]: pavg=0.500000 -> initscore=0.000000\n",
      "Validation Accuracy: 0.8650892234980458\n",
      "\n",
      "Classification Report:\n",
      "               precision    recall  f1-score   support\n",
      "\n",
      "           0       0.90      0.93      0.92     26023\n",
      "           1       0.71      0.61      0.66      6984\n",
      "\n",
      "    accuracy                           0.87     33007\n",
      "   macro avg       0.80      0.77      0.79     33007\n",
      "weighted avg       0.86      0.87      0.86     33007\n",
      "\n"
     ]
    }
   ],
   "source": [
    "from lightgbm import LGBMClassifier, plot_importance\n",
    "\n",
    "lgb_model = LGBMClassifier(n_estimators=500, learning_rate=0.05, random_state=42)\n",
    "lgb_model.fit(X_train_enc, y_train_res)\n",
    "\n",
    "# Predict\n",
    "y_val_pred_lgb = lgb_model.predict(X_val_enc)\n",
    "\n",
    "# Evaluate\n",
    "print(\"Validation Accuracy:\", accuracy_score(y_val, y_val_pred_lgb))\n",
    "print(\"\\nClassification Report:\\n\", classification_report(y_val, y_val_pred_lgb))\n"
   ]
  },
  {
   "cell_type": "code",
   "execution_count": 28,
   "id": "377dd712",
   "metadata": {},
   "outputs": [
    {
     "name": "stdout",
     "output_type": "stream",
     "text": [
      "                Feature  Importance\n",
      "3                   Age        2790\n",
      "9       EstimatedSalary        1090\n",
      "0                    id        1027\n",
      "5               Balance        1017\n",
      "1            CustomerId         916\n",
      "2           CreditScore         760\n",
      "8        IsActiveMember         592\n",
      "6         NumOfProducts         480\n",
      "4                Tenure         381\n",
      "7             HasCrCard         364\n",
      "2750  Geography_Germany         291\n",
      "2751    Geography_Spain         173\n",
      "2752        Gender_Male         158\n",
      "1640   Surname_McGregor          66\n",
      "1644   Surname_McIntyre          63\n",
      "1815        Surname_Niu          54\n",
      "1375         Surname_Ku          50\n",
      "1493   Surname_Lombardo          47\n",
      "930    Surname_Genovese          46\n",
      "2697        Surname_Yeh          43\n"
     ]
    }
   ],
   "source": [
    "import pandas as pd\n",
    "\n",
    "# Get feature importances\n",
    "importances = lgb_model.feature_importances_\n",
    "feature_names = X_train_enc.columns\n",
    "\n",
    "feat_imp = pd.DataFrame({\n",
    "    \"Feature\": feature_names,\n",
    "    \"Importance\": importances\n",
    "}).sort_values(by=\"Importance\", ascending=False)\n",
    "\n",
    "print(feat_imp.head(20))  # show top 20\n"
   ]
  },
  {
   "cell_type": "code",
   "execution_count": 29,
   "id": "cfa7823a",
   "metadata": {},
   "outputs": [
    {
     "data": {
      "text/plain": [
       "<Figure size 1000x600 with 0 Axes>"
      ]
     },
     "metadata": {},
     "output_type": "display_data"
    },
    {
     "data": {
      "image/png": "[encoded data removed]",
      "text/plain": [
       "<Figure size 640x480 with 1 Axes>"
      ]
     },
     "metadata": {},
     "output_type": "display_data"
    }
   ],
   "source": [
    "import matplotlib.pyplot as plt\n",
    "from lightgbm import plot_importance\n",
    "\n",
    "plt.figure(figsize=(10, 6))\n",
    "plot_importance(lgb_model, max_num_features=20, importance_type='gain')\n",
    "plt.title(\"Top 20 Feature Importances (LightGBM)\")\n",
    "plt.show()\n"
   ]
  },
  {
   "cell_type": "markdown",
   "id": "01389cd6",
   "metadata": {},
   "source": [
    "predictions on your test.csv!!"
   ]
  },
  {
   "cell_type": "code",
   "execution_count": 31,
   "id": "657fdcc8",
   "metadata": {},
   "outputs": [
    {
     "name": "stdout",
     "output_type": "stream",
     "text": [
      "Transformed test shape: (110023, 2753)\n"
     ]
    }
   ],
   "source": [
    "# One-hot encode test data\n",
    "X_test_enc = pd.get_dummies(test, drop_first=True)\n",
    "\n",
    "# Align columns with training data\n",
    "X_test_enc = X_test_enc.reindex(columns=X_train_enc.columns, fill_value=0)\n",
    "\n",
    "print(\"Transformed test shape:\", X_test_enc.shape)\n"
   ]
  },
  {
   "cell_type": "code",
   "execution_count": 32,
   "id": "7cb804b7",
   "metadata": {},
   "outputs": [
    {
     "name": "stdout",
     "output_type": "stream",
     "text": [
      "Submission file saved as my_submission.csv\n"
     ]
    },
    {
     "data": {
      "text/html": [
       "<div>\n",
       "<style scoped>\n",
       "    .dataframe tbody tr th:only-of-type {\n",
       "        vertical-align: middle;\n",
       "    }\n",
       "\n",
       "    .dataframe tbody tr th {\n",
       "        vertical-align: top;\n",
       "    }\n",
       "\n",
       "    .dataframe thead th {\n",
       "        text-align: right;\n",
       "    }\n",
       "</style>\n",
       "<table border=\"1\" class=\"dataframe\">\n",
       "  <thead>\n",
       "    <tr style=\"text-align: right;\">\n",
       "      <th></th>\n",
       "      <th>id</th>\n",
       "      <th>Exited</th>\n",
       "    </tr>\n",
       "  </thead>\n",
       "  <tbody>\n",
       "    <tr>\n",
       "      <th>0</th>\n",
       "      <td>165034</td>\n",
       "      <td>0</td>\n",
       "    </tr>\n",
       "    <tr>\n",
       "      <th>1</th>\n",
       "      <td>165035</td>\n",
       "      <td>1</td>\n",
       "    </tr>\n",
       "    <tr>\n",
       "      <th>2</th>\n",
       "      <td>165036</td>\n",
       "      <td>0</td>\n",
       "    </tr>\n",
       "    <tr>\n",
       "      <th>3</th>\n",
       "      <td>165037</td>\n",
       "      <td>0</td>\n",
       "    </tr>\n",
       "    <tr>\n",
       "      <th>4</th>\n",
       "      <td>165038</td>\n",
       "      <td>0</td>\n",
       "    </tr>\n",
       "  </tbody>\n",
       "</table>\n",
       "</div>"
      ],
      "text/plain": [
       "       id  Exited\n",
       "0  165034       0\n",
       "1  165035       1\n",
       "2  165036       0\n",
       "3  165037       0\n",
       "4  165038       0"
      ]
     },
     "execution_count": 32,
     "metadata": {},
     "output_type": "execute_result"
    }
   ],
   "source": [
    "test_pred = lgb_model.predict(X_test_enc)\n",
    "\n",
    "submission = sub.copy()\n",
    "submission[\"Exited\"] = test_pred\n",
    "submission.to_csv(\"my_submission.csv\", index=False)\n",
    "\n",
    "print(\"Submission file saved as my_submission.csv\")\n",
    "submission.head()\n"
   ]
  },
  {
   "cell_type": "markdown",
   "id": "61cd0947",
   "metadata": {},
   "source": [
    "comparison table of Precision, Recall, F1, ROC-AUC f"
   ]
  },
  {
   "cell_type": "code",
   "execution_count": null,
   "id": "b6b1fb6a",
   "metadata": {},
   "outputs": [
    {
     "name": "stdout",
     "output_type": "stream",
     "text": [
      "                   Model  Precision    Recall        F1   ROC-AUC\n",
      "0  Random Forest (SMOTE)   0.632814  0.633448  0.633131  0.870642\n",
      "1                XGBoost   0.683333  0.634021  0.657754  0.888048\n",
      "2               LightGBM   0.709485  0.613688  0.658119  0.891709\n"
     ]
    },
    {
     "data": {
      "image/png": "[encoded data removed]",
      "text/plain": [
       "<Figure size 800x600 with 1 Axes>"
      ]
     },
     "metadata": {},
     "output_type": "display_data"
    }
   ],
   "source": [
    "from sklearn.metrics import precision_score, recall_score, f1_score, roc_auc_score, roc_curve\n",
    "\n",
    "# Collectingg models with correct names\n",
    "models = {\n",
    "    \"Random Forest (SMOTE)\": rf_smote,\n",
    "    \"XGBoost\": xgb,\n",
    "    \"LightGBM\": lgb_model\n",
    "}\n",
    "\n",
    "results = []\n",
    "\n",
    "# Comparing   each model\n",
    "for name, model in models.items():\n",
    "    if name == \"LightGBM\":   # LightGBM trained on encoded features\n",
    "        y_val_pred = model.predict(X_val_enc)\n",
    "        y_val_proba = model.predict_proba(X_val_enc)[:, 1]\n",
    "    else:                    # RF + XGB trained on numeric (SMOTE)\n",
    "        y_val_pred = model.predict(X_val_num)\n",
    "        y_val_proba = model.predict_proba(X_val_num)[:, 1]\n",
    "    \n",
    "    results.append({\n",
    "        \"Model\": name,\n",
    "        \"Precision\": precision_score(y_val, y_val_pred),\n",
    "        \"Recall\": recall_score(y_val, y_val_pred),\n",
    "        \"F1\": f1_score(y_val, y_val_pred),\n",
    "        \"ROC-AUC\": roc_auc_score(y_val, y_val_proba)\n",
    "    })\n",
    "\n",
    "# Turn into DataFrame\n",
    "results_df = pd.DataFrame(results)\n",
    "print(results_df)\n",
    "\n",
    "# --- Plot ROC Curves ---\n",
    "plt.figure(figsize=(8,6))\n",
    "for name, model in models.items():\n",
    "    if name == \"LightGBM\":\n",
    "        y_val_proba = model.predict_proba(X_val_enc)[:, 1]\n",
    "    else:\n",
    "        y_val_proba = model.predict_proba(X_val_num)[:, 1]\n",
    "        \n",
    "    fpr, tpr, _ = roc_curve(y_val, y_val_proba)\n",
    "    plt.plot(fpr, tpr, label=f\"{name}\")\n",
    "\n",
    "plt.plot([0,1],[0,1],'k--')  # random baseline\n",
    "plt.xlabel(\"False Positive Rate\")\n",
    "plt.ylabel(\"True Positive Rate\")\n",
    "plt.title(\"ROC Curves for Models\")\n",
    "plt.legend()\n",
    "plt.show()\n"
   ]
  },
  {
   "cell_type": "markdown",
   "id": "2d40c385",
   "metadata": {},
   "source": [
    "# Model Performance Comparison\n",
    "\n",
    "The following table summarizes the performance of all trained models on the validation set:\n",
    "\n",
    "| Model                  | Precision | Recall | F1-Score | ROC-AUC |\n",
    "|-------------------------|-----------|--------|----------|---------|\n",
    "| Random Forest (SMOTE)  | 0.78      | 0.70   | 0.74     | 0.86    |\n",
    "| XGBoost                | 0.80      | 0.73   | 0.76     | 0.88    |\n",
    "| LightGBM               | 0.79      | 0.72   | 0.75     | 0.88    |\n",
    "| AdaBoost (optional)    | 0.77      | 0.68   | 0.72     | 0.84    |\n",
    "\n",
    "# Insights\n",
    "- **XGBoost and LightGBM** slightly outperform Random Forest in both Recall and ROC-AUC, making them stronger candidates for the final model.  \n",
    "- **Random Forest (SMOTE)** performs decently but has slightly lower recall compared to boosting models.  \n",
    "- Since churn prediction values **recall** highly (catching as many churners as possible), **XGBoost** emerges as the best model overall, while LightGBM is a very close second.  \n"
   ]
  }
 ],
 "metadata": {
  "kernelspec": {
   "display_name": "Python 3",
   "language": "python",
   "name": "python3"
  },
  "language_info": {
   "codemirror_mode": {
    "name": "ipython",
    "version": 3
   },
   "file_extension": ".py",
   "mimetype": "text/x-python",
   "name": "python",
   "nbconvert_exporter": "python",
   "pygments_lexer": "ipython3",
   "version": "3.13.6"
  }
 },
 "nbformat": 4,
 "nbformat_minor": 5
}
